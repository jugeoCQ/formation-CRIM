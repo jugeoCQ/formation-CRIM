{
 "cells": [
  {
   "cell_type": "markdown",
   "metadata": {},
   "source": [
    "# Simuler les fentes de Young avec PennyLane"
   ]
  },
  {
   "cell_type": "markdown",
   "metadata": {},
   "source": [
    "## Introduction\n",
    "\n",
    "L'expérience des fentes de Young est l'une des expériences les plus célèbres de la mécanique quantique. Elle révèle la dualité fondamentale onde-particule des objets quantiques. Lorsqu'une particule classique (comme une petite balle) est tirée sur une barrière à deux fentes, elle passe par l'une ou l'autre des fentes, formant deux bandes distinctes sur un écran de détection. Cependant, lorsque des particules quantiques (telles que des électrons ou des photons) sont envoyées à travers les fentes, elles interfèrent avec elles-mêmes, créant un **patron d'interférence** ondulatoire.\n",
    "\n",
    "Dans ce notebook, nous allons recréer l'expérience des doubles fentes avec un circuit quantique en utilisant PennyLane. Nous utiliserons la **superposition** pour représenter une particule quantique passant par les deux fentes simultanément et nous introduirons l'**interférence** pour observer les effets quantiques."
   ]
  },
  {
   "cell_type": "markdown",
   "metadata": {},
   "source": [
    "# Transposer le problème en un circuit quantique avec PennyLane"
   ]
  },
  {
   "cell_type": "markdown",
   "metadata": {},
   "source": [
    "Pour transposer le problème des fentes à notre circuit quantique, nous devons capturer trois phénomènes principaux.\n",
    "\n",
    "**Superposition** : Un qubit représente une particule quantique comme un photon ou un électron. Une porte de Hadamard crée un état de superposition, correspondant à la particule traversant les deux fentes à la fois.\n",
    "\n",
    "**Interférence** : Des déphasages sont introduits pour simuler les interférences constructives et destructives, comme dans l'expérience réelle des fentes de Young.\n",
    "\n",
    "**Mesure** : La mesure du qubit le fait s'effondrer dans l'une ou l'autre des fentes, révélant un résultat qui dépend des effets d'interférence.\n"
   ]
  },
  {
   "cell_type": "code",
   "execution_count": null,
   "metadata": {},
   "outputs": [],
   "source": [
    "import pennylane as qml\n",
    "from pennylane import numpy as np\n",
    "import matplotlib.pyplot as plt"
   ]
  },
  {
   "cell_type": "code",
   "execution_count": null,
   "metadata": {},
   "outputs": [],
   "source": [
    "num_exp = 20000\n",
    "\n",
    "\n",
    "dev = qml.device(\"default.qubit\", wires = 1, shots = 1)\n",
    "\n",
    "@qml.qnode(dev)\n",
    "\n",
    "def circuit(phi):\n",
    "    qml.Hadamard(0)\n",
    "    qml.PhaseShift(phi, 0)\n",
    "    qml.Hadamard(0)\n",
    "\n",
    "    return qml.sample(wires = 0)\n",
    "\n",
    "fig = qml.draw_mpl(circuit)(np.pi)\n",
    "print(fig)\n"
   ]
  },
  {
   "cell_type": "code",
   "execution_count": null,
   "metadata": {},
   "outputs": [],
   "source": [
    "phi_screen = 6*np.pi\n",
    "phi_list =  np.random.uniform(-phi_screen/2,phi_screen/2,num_exp)\n",
    "\n",
    "# Group data into bins\n",
    "num_bins = 100\n",
    "bins = np.linspace(-phi_screen / 2, phi_screen / 2, num_bins + 1) #A list of evenly spaced values defining the edges of the bins, from \n",
    "#−3𝜋 to 3𝜋\n",
    "\n",
    "bin_indices = np.digitize(phi_list, bins)  # Assigns each phi value in phi_list to a bin based on its position using np.digitize.\n",
    "\n",
    "# Count |0>\n",
    "counts = np.zeros(num_bins, dtype=int)\n",
    "\n",
    "for i, phi in enumerate(phi_list):\n",
    "    measurement = circuit(phi)  # Get a single measurement\n",
    "    if measurement == 0:\n",
    "        counts[bin_indices[i] - 1] += 1  # Increment count for the respective bin\n",
    "\n",
    "# Bin centers for plotting\n",
    "bin_centers = (bins[:-1] + bins[1:]) / 2\n",
    "\n",
    "# Plot the results\n",
    "plt.bar(bin_centers, counts, width=bin_centers[1] - bin_centers[0], color='blue', alpha=0.5)\n",
    "plt.xticks(ticks=[-3*np.pi, -2*np.pi, -1*np.pi, 0, 1*np.pi, 2*np.pi, 3*np.pi],\n",
    "           labels=['-3pi', '-2pi', '-pi', '0', 'pi','2pi','3pi'] \n",
    "           )\n",
    "plt.xlabel(\"Screen position (phi)\")\n",
    "plt.ylabel(\"Counts \")\n",
    "\n",
    "plt.show()\n",
    "\n"
   ]
  },
  {
   "cell_type": "code",
   "execution_count": null,
   "metadata": {},
   "outputs": [],
   "source": [
    "\n",
    "\n",
    "x_scatter = np.repeat(bin_centers, counts) \n",
    "z_scatter = np.random.uniform(-1, 1, len(x_scatter))  \n",
    "\n",
    "# Create scatter plot\n",
    "plt.figure(figsize=(10, 6))\n",
    "plt.scatter(x_scatter, z_scatter, s=1, color='white', alpha=0.5)\n",
    "plt.xticks(\n",
    "    ticks=[-3 * np.pi, -2 * np.pi, -1 * np.pi, 0, 1 * np.pi, 2 * np.pi, 3 * np.pi],\n",
    "    labels=['-3π', '-2π', '-π', '0', 'π', '2π', '3π'], color ='white'\n",
    ")\n",
    "plt.yticks([])\n",
    "plt.xlabel(\"Screen position (φ)\", color = 'white')\n",
    "plt.title(\"SCREEN\", color='white')\n",
    "plt.gca().set_facecolor(\"black\") \n",
    "plt.gcf().patch.set_facecolor(\"black\") \n",
    "plt.show()"
   ]
  },
  {
   "cell_type": "markdown",
   "metadata": {},
   "source": [
    "# Que se passe t-il si on mesure la particule au niveau des fentes ?"
   ]
  },
  {
   "cell_type": "code",
   "execution_count": null,
   "metadata": {},
   "outputs": [],
   "source": [
    "num_shots = 20000\n",
    "dev = qml.device('default.qubit', wires = 1, shots = 1)\n",
    "\n",
    "@qml.qnode(dev)\n",
    "\n",
    "def circuit(phi):\n",
    "    qml.Hadamard(0)\n",
    "    return qml.sample(wires=0)\n",
    "    # qml.PhaseShift(phi, 0)\n",
    "    # qml.Hadamard(0)\n",
    "\n",
    "    # return qml.sample(wires = 0)\n"
   ]
  },
  {
   "cell_type": "code",
   "execution_count": null,
   "metadata": {},
   "outputs": [],
   "source": [
    "phi_screen = 6*np.pi\n",
    "phi_list =  np.random.uniform(-phi_screen/2,phi_screen/2,num_exp)\n",
    "\n",
    "# Group data into bins\n",
    "num_bins = 100\n",
    "bins = np.linspace(-phi_screen / 2, phi_screen / 2, num_bins + 1)\n",
    "bin_indices = np.digitize(phi_list, bins)\n",
    "\n",
    "# Count occurrences of |0>\n",
    "counts = np.zeros(num_bins, dtype=int)\n",
    "\n",
    "for i, phi in enumerate(phi_list):\n",
    "    measurement = circuit(phi)  # Get a single measurement\n",
    "    if measurement == 0:\n",
    "        counts[bin_indices[i] - 1] += 1  # Increment count for the respective bin\n",
    "\n",
    "# Bin centers for plotting\n",
    "bin_centers = (bins[:-1] + bins[1:]) / 2\n",
    "\n",
    "# Plot the results\n",
    "plt.bar(bin_centers, counts, width=bin_centers[1] - bin_centers[0], color='blue', alpha=0.5)\n",
    "plt.xticks(ticks=[-3*np.pi, -2*np.pi, -1*np.pi, 0, 1*np.pi, 2*np.pi, 3*np.pi],\n",
    "           labels=['-3pi', '-2pi', '-pi', '0', 'pi','2pi','3pi'] \n",
    "           )\n",
    "plt.xlabel(\"Screen position (phi)\")\n",
    "plt.ylabel(\"Counts \")\n",
    "\n",
    "plt.show()\n"
   ]
  },
  {
   "cell_type": "code",
   "execution_count": null,
   "metadata": {},
   "outputs": [],
   "source": [
    "x_scatter = np.repeat(bin_centers, counts) \n",
    "z_scatter = np.random.uniform(-1, 1, len(x_scatter))  \n",
    "\n",
    "# Create scatter plot\n",
    "plt.figure(figsize=(10, 6))\n",
    "plt.scatter(x_scatter, z_scatter, s=1, color='white', alpha=0.5)\n",
    "plt.xticks(\n",
    "    ticks=[-3 * np.pi, -2 * np.pi, -1 * np.pi, 0, 1 * np.pi, 2 * np.pi, 3 * np.pi],\n",
    "    labels=['-3π', '-2π', '-π', '0', 'π', '2π', '3π'], color ='white'\n",
    ")\n",
    "plt.yticks([])\n",
    "plt.xlabel(\"Screen position (φ)\", color = 'white')\n",
    "plt.title(\"SCREEN\", color='white')\n",
    "plt.gca().set_facecolor(\"black\") \n",
    "plt.gcf().patch.set_facecolor(\"black\") \n",
    "plt.show()"
   ]
  }
 ],
 "metadata": {
  "kernelspec": {
   "display_name": "Python 3 (ipykernel)",
   "language": "python",
   "name": "python3"
  },
  "language_info": {
   "codemirror_mode": {
    "name": "ipython",
    "version": 3
   },
   "file_extension": ".py",
   "mimetype": "text/x-python",
   "name": "python",
   "nbconvert_exporter": "python",
   "pygments_lexer": "ipython3",
   "version": "3.9.1"
  }
 },
 "nbformat": 4,
 "nbformat_minor": 4
}
