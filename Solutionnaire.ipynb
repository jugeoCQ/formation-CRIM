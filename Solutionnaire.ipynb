{
 "cells": [
  {
   "cell_type": "markdown",
   "metadata": {},
   "source": [
    "# SOLUTIONNAIRE"
   ]
  },
  {
   "cell_type": "code",
   "execution_count": 1,
   "metadata": {},
   "outputs": [],
   "source": [
    "import pennylane as qml\n",
    "import numpy as np"
   ]
  },
  {
   "cell_type": "markdown",
   "metadata": {},
   "source": [
    "## NOTEBOOK 1"
   ]
  },
  {
   "cell_type": "code",
   "execution_count": 23,
   "metadata": {},
   "outputs": [],
   "source": [
    "#EXERCICE 1\n",
    "def qubit_state(alpha, beta):\n",
    "    \"\"\"\n",
    "    Crée un état de qubit |ψ⟩ selon les coefficients alpha et beta.\n",
    "    \n",
    "    Args:\n",
    "        alpha (complex): Amplitude de |0⟩\n",
    "        beta (complex): Amplitude de |1⟩\n",
    "        \n",
    "    Returns:\n",
    "       numpy.ndarray: Le vecteur d’état |ψ⟩\n",
    "    \"\"\"\n",
    "    # Définir les états de base |0⟩ et |1⟩\n",
    "    ket_0 = np.array([1, 0])\n",
    "    ket_1 = np.array([0, 1])\n",
    "    \n",
    "    # Construire l'état |ψ⟩\n",
    "    psi = alpha * ket_0 + beta * ket_1\n",
    "\n",
    "    # Retourner l'état \n",
    "    return psi"
   ]
  },
  {
   "cell_type": "code",
   "execution_count": 22,
   "metadata": {},
   "outputs": [],
   "source": [
    "#Exercice 2\n",
    "def is_normalized(state):  \n",
    "    \"\"\"Vérifie si un état est normalisé .  \n",
    "\n",
    "    Args:  \n",
    "        state (np.array): État du qubit (vecteur de dimension 2)\n",
    "\n",
    "    Returns:  \n",
    "        Bool: True si le vecteur est normalisé, faux autrement.  \n",
    "    \"\"\"  \n",
    "    norm = np.abs(state[0])**2 + np.abs(state[1])**2  # Complétez cette ligne  \n",
    "    return np.isclose(norm, 1)  "
   ]
  },
  {
   "cell_type": "code",
   "execution_count": 19,
   "metadata": {},
   "outputs": [],
   "source": [
    "#Exercice 3\n",
    "def apply_H(state, H):\n",
    "    \"\"\"\n",
    "    Applique une porte quantique (matrice unitaire) à un état de qubit donné.\n",
    "    \n",
    "    Args:\n",
    "        state (np.array): État du qubit (vecteur de dimension 2)\n",
    "        H (np.array): Matrice unitaire 2x2 représentant la porte Hadamard\n",
    "        \n",
    "    Returns:\n",
    "        np.array: Nouvel état du qubit après l'application de la matrice H \n",
    "    \"\"\"\n",
    "    # Appliquer la porte quantique à l'état du qubit et retourner le nouvel état\n",
    "    return np.dot(H, state)"
   ]
  },
  {
   "cell_type": "code",
   "execution_count": 21,
   "metadata": {},
   "outputs": [],
   "source": [
    "#EXERCICE 4\n",
    "def measurement_probabilities(state):  \n",
    "    \"\"\"Calcule les probabilités de mesurer |0⟩ et |1⟩ à partir d’un état quantique donné.  \n",
    "\n",
    "    Args:  \n",
    "        state (np.array): Vecteur représentant l’état du qubit.  \n",
    "\n",
    "    Returns:  \n",
    "        tuple: Probabilités (P0, P1) correspondant aux mesures |0⟩ et |1⟩.  \n",
    "    \"\"\"  \n",
    "    P0 = np.conj(new_ket[0])*(new_ket[0])\n",
    "    P1 = np.conj(new_ket[1])*(new_ket[1]) \n",
    "    return P0, P1  "
   ]
  },
  {
   "cell_type": "code",
   "execution_count": null,
   "metadata": {},
   "outputs": [],
   "source": [
    "#EXERCICE 5\n",
    "def simulate_measurements(probs):  \n",
    "    \"\"\"Simule des mesures quantiques en échantillonnant la distribution de probabilité d’un état quantique.  \n",
    "\n",
    "    Args:  \n",
    "        probs (tuple): Probabilités de mesurer |0⟩ et |1⟩.  \n",
    "        num_samples (int): Nombre de mesures à simuler.  \n",
    "\n",
    "    Returns:  \n",
    "        dict: Nombre d’occurrences de chaque résultat (0 ou 1).  \n",
    "    \"\"\"  \n",
    "    results = np.random.choice([0, 1], p = probs, size = 1000)# Complétez cette ligne  \n",
    "    \n",
    "    return dict(zip(*np.unique(results, return_counts=True)))  "
   ]
  },
  {
   "cell_type": "markdown",
   "metadata": {},
   "source": [
    "## NOTEBOOK 2"
   ]
  },
  {
   "cell_type": "code",
   "execution_count": 6,
   "metadata": {},
   "outputs": [],
   "source": [
    "#EXERCICE 1\n",
    "dev = qml.device(\"default.qubit\", wires = 2)\n",
    "@qml.qnode(dev)\n",
    "def circuit():\n",
    "    qml.Hadamard(wires = 0)\n",
    "    qml.CNOT(wires = [0,1])\n",
    "    return qml.state()"
   ]
  },
  {
   "cell_type": "code",
   "execution_count": 9,
   "metadata": {},
   "outputs": [],
   "source": [
    "#Exercice 2\n",
    "\n",
    "dev = qml.device('default.qubit', wires = 2)\n",
    "@qml.qnode(dev)\n",
    "def psi_moins():\n",
    " \n",
    "    qml.PauliX(wires = 0)\n",
    "    qml.Hadamard(wires = 0)\n",
    "    qml.CNOT(wires = [0,1])\n",
    "    return qml.state()\n",
    "\n",
    "@qml.qnode(dev)\n",
    "def phi_plus():\n",
    "\n",
    "  qml.Hadamard(wires = 0)\n",
    "  qml.CNOT(wires = [0,1])\n",
    "  qml.PauliX(wires = 0)\n",
    "  return qml.state()\n",
    "\n",
    "@qml.qnode(dev)\n",
    "def phi_moins():\n",
    "\n",
    "  qml.Hadamard(wires = 0)\n",
    "  qml.CNOT(wires = [0,1])\n",
    "  qml.Z(wires = 0)\n",
    "  qml.X(wires = 1)\n",
    "  return qml.state()\n"
   ]
  },
  {
   "cell_type": "code",
   "execution_count": 2,
   "metadata": {},
   "outputs": [],
   "source": [
    "#EXERCICE 3\n",
    "dev = qml.device('default.qubit', wires=1)\n",
    "@qml.qnode(dev)\n",
    "def prepare_with_gate():\n",
    "  qml.RX(np.pi/3, wires = 0)\n",
    "  return qml.state()\n",
    "\n",
    "state = np.array([np.sqrt(3)/2, -0.5j])\n",
    "\n",
    "@qml.qnode(dev)\n",
    "def prepare_with_StatePrep(state):\n",
    "  qml.StatePrep(state=state, wires=0)\n",
    "  return qml.state()\n"
   ]
  },
  {
   "cell_type": "code",
   "execution_count": 3,
   "metadata": {},
   "outputs": [
    {
     "data": {
      "text/plain": [
       "tensor([0.8660254+0.j , 0.       -0.5j], requires_grad=True)"
      ]
     },
     "execution_count": 3,
     "metadata": {},
     "output_type": "execute_result"
    }
   ],
   "source": [
    "prepare_with_gate()"
   ]
  },
  {
   "cell_type": "code",
   "execution_count": null,
   "metadata": {},
   "outputs": [],
   "source": [
    "#Exercice 4\n",
    "dev = qml.device('default.qubit', wires = 1)\n",
    "@qml.qnode(dev)\n",
    "def circuit():\n",
    "\n",
    "    qml.Hadamard(wires = 0)\n",
    "    qml.Z(wires = 0)\n",
    "\n",
    "    return qml.expval(qml.Z(wires = 0))\n",
    "    \n",
    "print(circuit())"
   ]
  },
  {
   "cell_type": "markdown",
   "metadata": {},
   "source": [
    "## NOTEBOOK 3"
   ]
  },
  {
   "cell_type": "code",
   "execution_count": null,
   "metadata": {},
   "outputs": [],
   "source": [
    "def ghz():\n",
    "    qml.Hadamard(wires=0)\n",
    "    qml.CNOT(wires=[0, 1])\n",
    "    qml.CNOT(wires=[0, 2])\n",
    "    qml.CNOT(wires=[0, 3])\n",
    "\n",
    "def ghz_manuel():\n",
    "    qml.Hadamard(wires=4)\n",
    "    qml.CNOT(wires=[4, 0])\n",
    "    qml.CNOT(wires=[4, 8])\n",
    "    qml.CNOT(wires=[4, 1]) "
   ]
  },
  {
   "cell_type": "markdown",
   "metadata": {},
   "source": [
    "## NOTEBOOK 4"
   ]
  },
  {
   "cell_type": "code",
   "execution_count": null,
   "metadata": {},
   "outputs": [],
   "source": [
    "def bernstein_vazirani(s):\n",
    "    \"\"\"\n",
    "    Implémente les quatre premières étapes de l'algorithme de Bernstein-Vazirani.\n",
    "\n",
    "    Paramètres :\n",
    "    s (str) : La chaîne binaire secrète à déterminer.\n",
    "\n",
    "    Cette fonction applique les étapes 1 à 4 décrites ci-haut.\n",
    "    \"\"\"\n",
    "    n_qubits = len(s)\n",
    "\n",
    "    # Étape 1-2 : Initialisation et création de superposition\n",
    "    for i in range(n_qubits):\n",
    "        qml.Hadamard(wires=i)\n",
    "\n",
    "    qml.PauliX(wires=n_qubits)  # Appliquer X sur le qubit auxiliaire\n",
    "    qml.Hadamard(wires=n_qubits)  # Appliquer Hadamard sur le qubit auxiliaire\n",
    "\n",
    "    # Étape 3 : Application de l'oracle\n",
    "    for i in range(n_qubits):\n",
    "        if s[i] == '1':\n",
    "            qml.CNOT(wires=[i, n_qubits])  # Appliquer CNOT si le bit correspondant de `s` est 1\n",
    "\n",
    "    # Étape 4 : Transformation de Hadamard sur les qubits d'entrée\n",
    "    for i in range(n_qubits):\n",
    "        qml.Hadamard(wires=i)"
   ]
  },
  {
   "cell_type": "code",
   "execution_count": null,
   "metadata": {},
   "outputs": [],
   "source": [
    "def circuit\n"
   ]
  }
 ],
 "metadata": {
  "kernelspec": {
   "display_name": "NENV",
   "language": "python",
   "name": "nenv"
  },
  "language_info": {
   "codemirror_mode": {
    "name": "ipython",
    "version": 3
   },
   "file_extension": ".py",
   "mimetype": "text/x-python",
   "name": "python",
   "nbconvert_exporter": "python",
   "pygments_lexer": "ipython3",
   "version": "3.12.7"
  }
 },
 "nbformat": 4,
 "nbformat_minor": 4
}
